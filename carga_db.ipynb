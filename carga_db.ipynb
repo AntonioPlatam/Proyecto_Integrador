{
 "cells": [
  {
   "cell_type": "markdown",
   "id": "8c3d8914",
   "metadata": {},
   "source": [
    "# CARGA DE DATOS A BASE DE DATOS"
   ]
  },
  {
   "cell_type": "code",
   "execution_count": 5,
   "id": "87fa58db",
   "metadata": {},
   "outputs": [],
   "source": [
    "import pandas as pd\n",
    "from sqlalchemy import create_engine"
   ]
  },
  {
   "cell_type": "code",
   "execution_count": 6,
   "id": "d91e5e76",
   "metadata": {},
   "outputs": [],
   "source": [
    "# Configura la conexión\n",
    "user = 'root' #usuario\n",
    "password = 'root' #password de usuario\n",
    "host = 'localhost' #direccion del servidor \n",
    "database = 'sales_company'  #base de datos \n",
    "\n",
    "# Crear motor de conexión\n",
    "engine = create_engine(f'mysql+pymysql://{user}:{password}@{host}/{database}')"
   ]
  },
  {
   "cell_type": "code",
   "execution_count": 7,
   "id": "21530b0b",
   "metadata": {},
   "outputs": [
    {
     "name": "stdout",
     "output_type": "stream",
     "text": [
      "Insertando bloque 1...\n",
      "Importación completada.\n"
     ]
    }
   ],
   "source": [
    "#Carga Tabla Categorias\n",
    "\n",
    "table_name = 'categories' \n",
    "\n",
    "# Ruta al archivo CSV\n",
    "csv_file = 'data/CSV/categories.csv'\n",
    "\n",
    "# Tamaño del bloque\n",
    "chunk_size = 100000  #cantidad datos que se ingresaran por bloque\n",
    "\n",
    "# Leer e insertar por bloques\n",
    "for i, chunk in enumerate(pd.read_csv(csv_file, chunksize=chunk_size)):\n",
    "    print(f\"Insertando bloque {i+1}...\")\n",
    "    chunk.to_sql(name=table_name, con=engine, if_exists='append', index=False)\n",
    "\n",
    "print(\"Importación completada.\")\n"
   ]
  },
  {
   "cell_type": "code",
   "execution_count": 8,
   "id": "382dfe49",
   "metadata": {},
   "outputs": [
    {
     "name": "stdout",
     "output_type": "stream",
     "text": [
      "Insertando bloque 1...\n",
      "Importación completada.\n"
     ]
    }
   ],
   "source": [
    "table_name = 'cities' \n",
    "\n",
    "# Ruta al archivo CSV\n",
    "csv_file = 'data/CSV/cities.csv'\n",
    "\n",
    "# Tamaño del bloque\n",
    "chunk_size = 100000  #cantidad datos que se ingresaran por bloque\n",
    "\n",
    "# Leer e insertar por bloques\n",
    "for i, chunk in enumerate(pd.read_csv(csv_file, chunksize=chunk_size)):\n",
    "    print(f\"Insertando bloque {i+1}...\")\n",
    "    chunk.to_sql(name=table_name, con=engine, if_exists='append', index=False)\n",
    "\n",
    "print(\"Importación completada.\")"
   ]
  },
  {
   "cell_type": "code",
   "execution_count": 9,
   "id": "81e58c48",
   "metadata": {},
   "outputs": [
    {
     "name": "stdout",
     "output_type": "stream",
     "text": [
      "Insertando bloque 1...\n",
      "Importación completada.\n"
     ]
    }
   ],
   "source": [
    "table_name = 'countries' \n",
    "\n",
    "# Ruta al archivo CSV\n",
    "csv_file = 'data/CSV/countries.csv'\n",
    "\n",
    "# Tamaño del bloque\n",
    "chunk_size = 100000  #cantidad datos que se ingresaran por bloque\n",
    "\n",
    "# Leer e insertar por bloques\n",
    "for i, chunk in enumerate(pd.read_csv(csv_file, chunksize=chunk_size)):\n",
    "    print(f\"Insertando bloque {i+1}...\")\n",
    "    chunk.to_sql(name=table_name, con=engine, if_exists='append', index=False)\n",
    "\n",
    "print(\"Importación completada.\")"
   ]
  },
  {
   "cell_type": "code",
   "execution_count": 10,
   "id": "83d70d53",
   "metadata": {},
   "outputs": [
    {
     "name": "stdout",
     "output_type": "stream",
     "text": [
      "Insertando bloque 1...\n",
      "Importación completada.\n"
     ]
    }
   ],
   "source": [
    "table_name = 'customers' \n",
    "\n",
    "# Ruta al archivo CSV\n",
    "csv_file = 'data/CSV/customers.csv'\n",
    "\n",
    "# Tamaño del bloque\n",
    "chunk_size = 100000  #cantidad datos que se ingresaran por bloque\n",
    "\n",
    "# Leer e insertar por bloques\n",
    "for i, chunk in enumerate(pd.read_csv(csv_file, chunksize=chunk_size)):\n",
    "    print(f\"Insertando bloque {i+1}...\")\n",
    "    chunk.to_sql(name=table_name, con=engine, if_exists='append', index=False)\n",
    "\n",
    "print(\"Importación completada.\")"
   ]
  },
  {
   "cell_type": "code",
   "execution_count": 11,
   "id": "e06e97cc",
   "metadata": {},
   "outputs": [
    {
     "name": "stdout",
     "output_type": "stream",
     "text": [
      "Insertando bloque 1...\n",
      "Importación completada.\n"
     ]
    }
   ],
   "source": [
    "table_name = 'employees' \n",
    "\n",
    "# Ruta al archivo CSV\n",
    "csv_file = 'data/CSV/employees.csv'\n",
    "\n",
    "# Tamaño del bloque\n",
    "chunk_size = 100000  #cantidad datos que se ingresaran por bloque\n",
    "\n",
    "# Leer e insertar por bloques\n",
    "for i, chunk in enumerate(pd.read_csv(csv_file, chunksize=chunk_size)):\n",
    "    print(f\"Insertando bloque {i+1}...\")\n",
    "    chunk.to_sql(name=table_name, con=engine, if_exists='append', index=False)\n",
    "\n",
    "print(\"Importación completada.\")"
   ]
  },
  {
   "cell_type": "code",
   "execution_count": 12,
   "id": "29028a45",
   "metadata": {},
   "outputs": [
    {
     "name": "stdout",
     "output_type": "stream",
     "text": [
      "Insertando bloque 1...\n",
      "Importación completada.\n"
     ]
    }
   ],
   "source": [
    "table_name = 'products' \n",
    "\n",
    "# Ruta al archivo CSV\n",
    "csv_file = 'data/CSV/products.csv'\n",
    "\n",
    "# Tamaño del bloque\n",
    "chunk_size = 100000  #cantidad datos que se ingresaran por bloque\n",
    "\n",
    "# Leer e insertar por bloques\n",
    "for i, chunk in enumerate(pd.read_csv(csv_file, chunksize=chunk_size)):\n",
    "    print(f\"Insertando bloque {i+1}...\")\n",
    "    chunk.to_sql(name=table_name, con=engine, if_exists='append', index=False)\n",
    "\n",
    "print(\"Importación completada.\")"
   ]
  },
  {
   "cell_type": "code",
   "execution_count": 13,
   "id": "757c0837",
   "metadata": {},
   "outputs": [
    {
     "name": "stdout",
     "output_type": "stream",
     "text": [
      "Insertando bloque 1...\n",
      "Insertando bloque 2...\n",
      "Insertando bloque 3...\n",
      "Insertando bloque 4...\n",
      "Insertando bloque 5...\n",
      "Insertando bloque 6...\n",
      "Insertando bloque 7...\n",
      "Insertando bloque 8...\n",
      "Insertando bloque 9...\n",
      "Insertando bloque 10...\n",
      "Insertando bloque 11...\n",
      "Insertando bloque 12...\n",
      "Insertando bloque 13...\n",
      "Insertando bloque 14...\n",
      "Insertando bloque 15...\n",
      "Insertando bloque 16...\n",
      "Insertando bloque 17...\n",
      "Insertando bloque 18...\n",
      "Insertando bloque 19...\n",
      "Insertando bloque 20...\n",
      "Insertando bloque 21...\n",
      "Insertando bloque 22...\n",
      "Insertando bloque 23...\n",
      "Insertando bloque 24...\n",
      "Insertando bloque 25...\n",
      "Insertando bloque 26...\n",
      "Insertando bloque 27...\n",
      "Insertando bloque 28...\n",
      "Insertando bloque 29...\n",
      "Insertando bloque 30...\n",
      "Insertando bloque 31...\n",
      "Insertando bloque 32...\n",
      "Insertando bloque 33...\n",
      "Insertando bloque 34...\n",
      "Insertando bloque 35...\n",
      "Insertando bloque 36...\n",
      "Insertando bloque 37...\n",
      "Insertando bloque 38...\n",
      "Insertando bloque 39...\n",
      "Insertando bloque 40...\n",
      "Insertando bloque 41...\n",
      "Insertando bloque 42...\n",
      "Insertando bloque 43...\n",
      "Insertando bloque 44...\n",
      "Insertando bloque 45...\n",
      "Insertando bloque 46...\n",
      "Insertando bloque 47...\n",
      "Insertando bloque 48...\n",
      "Insertando bloque 49...\n",
      "Insertando bloque 50...\n",
      "Insertando bloque 51...\n",
      "Insertando bloque 52...\n",
      "Insertando bloque 53...\n",
      "Insertando bloque 54...\n",
      "Insertando bloque 55...\n",
      "Insertando bloque 56...\n",
      "Insertando bloque 57...\n",
      "Insertando bloque 58...\n",
      "Insertando bloque 59...\n",
      "Insertando bloque 60...\n",
      "Insertando bloque 61...\n",
      "Insertando bloque 62...\n",
      "Insertando bloque 63...\n",
      "Insertando bloque 64...\n",
      "Insertando bloque 65...\n",
      "Insertando bloque 66...\n",
      "Insertando bloque 67...\n",
      "Insertando bloque 68...\n",
      "Importación completada.\n"
     ]
    }
   ],
   "source": [
    "table_name = 'sales' \n",
    "\n",
    "# Ruta al archivo CSV\n",
    "csv_file = 'data/CSV/sales.csv'\n",
    "\n",
    "# Tamaño del bloque\n",
    "chunk_size = 100000  #cantidad datos que se ingresaran por bloque\n",
    "\n",
    "# Leer e insertar por bloques\n",
    "for i, chunk in enumerate(pd.read_csv(csv_file, chunksize=chunk_size)):\n",
    "    print(f\"Insertando bloque {i+1}...\")\n",
    "    chunk.to_sql(name=table_name, con=engine, if_exists='append', index=False)\n",
    "\n",
    "print(\"Importación completada.\")"
   ]
  }
 ],
 "metadata": {
  "kernelspec": {
   "display_name": "Python 3",
   "language": "python",
   "name": "python3"
  },
  "language_info": {
   "codemirror_mode": {
    "name": "ipython",
    "version": 3
   },
   "file_extension": ".py",
   "mimetype": "text/x-python",
   "name": "python",
   "nbconvert_exporter": "python",
   "pygments_lexer": "ipython3",
   "version": "3.13.3"
  }
 },
 "nbformat": 4,
 "nbformat_minor": 5
}
