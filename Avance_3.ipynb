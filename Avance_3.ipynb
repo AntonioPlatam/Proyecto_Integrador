{
 "cells": [
  {
   "cell_type": "markdown",
   "id": "154b051e",
   "metadata": {},
   "source": [
    "# AVANCE 3 PROYECTO INTEGRADOR"
   ]
  },
  {
   "cell_type": "markdown",
   "id": "1c056ac0",
   "metadata": {},
   "source": [
    "### CARGA DE ARCHIVOS"
   ]
  },
  {
   "cell_type": "code",
   "execution_count": 51,
   "id": "cf3d9ee2",
   "metadata": {},
   "outputs": [],
   "source": [
    "# IMPORTACION DE LIBRERIAS\n",
    "import pandas as pd\n",
    "import matplotlib.pyplot as plt\n",
    "import seaborn as sns"
   ]
  },
  {
   "cell_type": "code",
   "execution_count": 39,
   "id": "0571a97d",
   "metadata": {},
   "outputs": [],
   "source": [
    "#IMPORTACION DE CSV\n",
    "\n",
    "categories_df = pd.read_csv('categories.csv')\n",
    "cities_df = pd.read_csv('cities.csv')\n",
    "countries_df = pd.read_csv('countries.csv')\n",
    "customers_df = pd.read_csv('customers.csv')\n",
    "employees_df = pd.read_csv('employees.csv')\n",
    "products_df = pd.read_csv('products.csv')\n",
    "sales_df = pd.read_csv('sales.csv')\n"
   ]
  },
  {
   "cell_type": "code",
   "execution_count": 40,
   "id": "1bde1360",
   "metadata": {},
   "outputs": [
    {
     "name": "stdout",
     "output_type": "stream",
     "text": [
      "-------------TABLA CATEGORIAS-----------\n",
      "<class 'pandas.core.frame.DataFrame'>\n",
      "RangeIndex: 11 entries, 0 to 10\n",
      "Data columns (total 2 columns):\n",
      " #   Column        Non-Null Count  Dtype \n",
      "---  ------        --------------  ----- \n",
      " 0   CategoryID    11 non-null     int64 \n",
      " 1   CategoryName  11 non-null     object\n",
      "dtypes: int64(1), object(1)\n",
      "memory usage: 308.0+ bytes\n",
      "None\n",
      "-------------TABLA CITIES---------------\n",
      "<class 'pandas.core.frame.DataFrame'>\n",
      "RangeIndex: 96 entries, 0 to 95\n",
      "Data columns (total 4 columns):\n",
      " #   Column     Non-Null Count  Dtype \n",
      "---  ------     --------------  ----- \n",
      " 0   CityID     96 non-null     int64 \n",
      " 1   CityName   96 non-null     object\n",
      " 2   Zipcode    96 non-null     int64 \n",
      " 3   CountryID  96 non-null     int64 \n",
      "dtypes: int64(3), object(1)\n",
      "memory usage: 3.1+ KB\n",
      "None\n",
      "-------------TABLA COUNTRIES------------\n",
      "<class 'pandas.core.frame.DataFrame'>\n",
      "RangeIndex: 206 entries, 0 to 205\n",
      "Data columns (total 3 columns):\n",
      " #   Column       Non-Null Count  Dtype \n",
      "---  ------       --------------  ----- \n",
      " 0   CountryID    206 non-null    int64 \n",
      " 1   CountryName  206 non-null    object\n",
      " 2   CountryCode  205 non-null    object\n",
      "dtypes: int64(1), object(2)\n",
      "memory usage: 5.0+ KB\n",
      "None\n",
      "-------------TABLA CUSTUMERS------------\n",
      "<class 'pandas.core.frame.DataFrame'>\n",
      "RangeIndex: 98759 entries, 0 to 98758\n",
      "Data columns (total 6 columns):\n",
      " #   Column         Non-Null Count  Dtype \n",
      "---  ------         --------------  ----- \n",
      " 0   CustomerID     98759 non-null  int64 \n",
      " 1   FirstName      98759 non-null  object\n",
      " 2   MiddleInitial  97782 non-null  object\n",
      " 3   LastName       98759 non-null  object\n",
      " 4   CityID         98759 non-null  int64 \n",
      " 5   Address        98759 non-null  object\n",
      "dtypes: int64(2), object(4)\n",
      "memory usage: 4.5+ MB\n",
      "None\n",
      "-------------TABLA EMPLOYEES------------\n",
      "<class 'pandas.core.frame.DataFrame'>\n",
      "RangeIndex: 23 entries, 0 to 22\n",
      "Data columns (total 8 columns):\n",
      " #   Column         Non-Null Count  Dtype \n",
      "---  ------         --------------  ----- \n",
      " 0   EmployeeID     23 non-null     int64 \n",
      " 1   FirstName      23 non-null     object\n",
      " 2   MiddleInitial  23 non-null     object\n",
      " 3   LastName       23 non-null     object\n",
      " 4   BirthDate      23 non-null     object\n",
      " 5   Gender         23 non-null     object\n",
      " 6   CityID         23 non-null     int64 \n",
      " 7   HireDate       23 non-null     object\n",
      "dtypes: int64(2), object(6)\n",
      "memory usage: 1.6+ KB\n",
      "None\n",
      "-------------TABLA PRODUCTS-------------\n",
      "<class 'pandas.core.frame.DataFrame'>\n",
      "RangeIndex: 452 entries, 0 to 451\n",
      "Data columns (total 9 columns):\n",
      " #   Column        Non-Null Count  Dtype  \n",
      "---  ------        --------------  -----  \n",
      " 0   ProductID     452 non-null    int64  \n",
      " 1   ProductName   452 non-null    object \n",
      " 2   Price         452 non-null    float64\n",
      " 3   CategoryID    452 non-null    int64  \n",
      " 4   Class         452 non-null    object \n",
      " 5   ModifyDate    452 non-null    object \n",
      " 6   Resistant     452 non-null    object \n",
      " 7   IsAllergic    452 non-null    object \n",
      " 8   VitalityDays  452 non-null    int64  \n",
      "dtypes: float64(1), int64(3), object(5)\n",
      "memory usage: 31.9+ KB\n",
      "None\n",
      "-------------TABLA SALES----------------\n",
      "<class 'pandas.core.frame.DataFrame'>\n",
      "RangeIndex: 6758125 entries, 0 to 6758124\n",
      "Data columns (total 9 columns):\n",
      " #   Column             Dtype  \n",
      "---  ------             -----  \n",
      " 0   SalesID            int64  \n",
      " 1   SalesPersonID      int64  \n",
      " 2   CustomerID         int64  \n",
      " 3   ProductID          int64  \n",
      " 4   Quantity           int64  \n",
      " 5   Discount           float64\n",
      " 6   TotalPrice         float64\n",
      " 7   SalesDate          object \n",
      " 8   TransactionNumber  object \n",
      "dtypes: float64(2), int64(5), object(2)\n",
      "memory usage: 464.0+ MB\n",
      "None\n"
     ]
    }
   ],
   "source": [
    "# INFORMACION DE TABLA\n",
    "print('-------------TABLA CATEGORIAS-----------')\n",
    "print(categories_df.info())\n",
    "print('-------------TABLA CITIES---------------')\n",
    "print(cities_df.info())\n",
    "print('-------------TABLA COUNTRIES------------')\n",
    "print(countries_df.info())\n",
    "print('-------------TABLA CUSTUMERS------------')\n",
    "print(customers_df.info())\n",
    "print('-------------TABLA EMPLOYEES------------')\n",
    "print(employees_df.info())\n",
    "print('-------------TABLA PRODUCTS-------------')\n",
    "print(products_df.info())\n",
    "print('-------------TABLA SALES----------------')\n",
    "print(sales_df.info())"
   ]
  },
  {
   "cell_type": "markdown",
   "id": "2b6027a9",
   "metadata": {},
   "source": [
    "### PREGUNTA 1\n",
    "El notebook se debe entregar y debe ser posible visualizar los resultados de cada pregunta:\n",
    "\n",
    "El campo TotalPrice en la tabla sales no tiene valores válidos. Utilizando la información de precios de la tabla products, calcula el valor real de la venta para cada registro y almacena en una nueva columna\n",
    "\n",
    "Utiliza la siguiente fórmula:\n",
    "\n",
    "TotalPriceCalculated=(Quantity×UnitPrice)×(1−Discount)"
   ]
  },
  {
   "cell_type": "code",
   "execution_count": 41,
   "id": "b7fe1e06",
   "metadata": {},
   "outputs": [
    {
     "data": {
      "application/vnd.microsoft.datawrangler.viewer.v0+json": {
       "columns": [
        {
         "name": "index",
         "rawType": "int64",
         "type": "integer"
        },
        {
         "name": "SalesID",
         "rawType": "int64",
         "type": "integer"
        },
        {
         "name": "SalesPersonID",
         "rawType": "int64",
         "type": "integer"
        },
        {
         "name": "CustomerID",
         "rawType": "int64",
         "type": "integer"
        },
        {
         "name": "ProductID",
         "rawType": "int64",
         "type": "integer"
        },
        {
         "name": "Quantity",
         "rawType": "int64",
         "type": "integer"
        },
        {
         "name": "Discount",
         "rawType": "float64",
         "type": "float"
        },
        {
         "name": "TotalPrice",
         "rawType": "float64",
         "type": "float"
        },
        {
         "name": "SalesDate",
         "rawType": "object",
         "type": "string"
        },
        {
         "name": "TransactionNumber",
         "rawType": "object",
         "type": "string"
        },
        {
         "name": "Price",
         "rawType": "float64",
         "type": "float"
        },
        {
         "name": "TotalPriceCalculated",
         "rawType": "float64",
         "type": "float"
        }
       ],
       "ref": "93a9c0f2-96c4-475e-b293-26bcd8687a05",
       "rows": [
        [
         "0",
         "1",
         "6",
         "27039",
         "381",
         "7",
         "0.0",
         "0.0",
         "2018-02-05 07:38:25.430",
         "FQL4S94E4ME1EZFTG42G",
         "44.2337",
         "309.6359"
        ],
        [
         "1",
         "2",
         "16",
         "25011",
         "61",
         "7",
         "0.0",
         "0.0",
         "2018-02-02 16:03:31.150",
         "12UGLX40DJ1A5DTFBHB8",
         "62.546",
         "437.822"
        ],
        [
         "2",
         "3",
         "13",
         "94024",
         "23",
         "24",
         "0.0",
         "0.0",
         "2018-05-03 19:31:56.880",
         "5DT8RCPL87KI5EORO7B0",
         "79.0184",
         "1896.4416"
        ],
        [
         "3",
         "4",
         "8",
         "73966",
         "176",
         "19",
         "0.2",
         "0.0",
         "2018-04-07 14:43:55.420",
         "R3DR9MLD5NR76VO17ULE",
         "81.3167",
         "1236.01384"
        ],
        [
         "4",
         "5",
         "10",
         "32653",
         "310",
         "9",
         "0.0",
         "0.0",
         "2018-02-12 15:37:03.940",
         "4BGS0Z5OMAZ8NDAFHHP3",
         "79.978",
         "719.8019999999999"
        ]
       ],
       "shape": {
        "columns": 11,
        "rows": 5
       }
      },
      "text/html": [
       "<div>\n",
       "<style scoped>\n",
       "    .dataframe tbody tr th:only-of-type {\n",
       "        vertical-align: middle;\n",
       "    }\n",
       "\n",
       "    .dataframe tbody tr th {\n",
       "        vertical-align: top;\n",
       "    }\n",
       "\n",
       "    .dataframe thead th {\n",
       "        text-align: right;\n",
       "    }\n",
       "</style>\n",
       "<table border=\"1\" class=\"dataframe\">\n",
       "  <thead>\n",
       "    <tr style=\"text-align: right;\">\n",
       "      <th></th>\n",
       "      <th>SalesID</th>\n",
       "      <th>SalesPersonID</th>\n",
       "      <th>CustomerID</th>\n",
       "      <th>ProductID</th>\n",
       "      <th>Quantity</th>\n",
       "      <th>Discount</th>\n",
       "      <th>TotalPrice</th>\n",
       "      <th>SalesDate</th>\n",
       "      <th>TransactionNumber</th>\n",
       "      <th>Price</th>\n",
       "      <th>TotalPriceCalculated</th>\n",
       "    </tr>\n",
       "  </thead>\n",
       "  <tbody>\n",
       "    <tr>\n",
       "      <th>0</th>\n",
       "      <td>1</td>\n",
       "      <td>6</td>\n",
       "      <td>27039</td>\n",
       "      <td>381</td>\n",
       "      <td>7</td>\n",
       "      <td>0.0</td>\n",
       "      <td>0.0</td>\n",
       "      <td>2018-02-05 07:38:25.430</td>\n",
       "      <td>FQL4S94E4ME1EZFTG42G</td>\n",
       "      <td>44.2337</td>\n",
       "      <td>309.63590</td>\n",
       "    </tr>\n",
       "    <tr>\n",
       "      <th>1</th>\n",
       "      <td>2</td>\n",
       "      <td>16</td>\n",
       "      <td>25011</td>\n",
       "      <td>61</td>\n",
       "      <td>7</td>\n",
       "      <td>0.0</td>\n",
       "      <td>0.0</td>\n",
       "      <td>2018-02-02 16:03:31.150</td>\n",
       "      <td>12UGLX40DJ1A5DTFBHB8</td>\n",
       "      <td>62.5460</td>\n",
       "      <td>437.82200</td>\n",
       "    </tr>\n",
       "    <tr>\n",
       "      <th>2</th>\n",
       "      <td>3</td>\n",
       "      <td>13</td>\n",
       "      <td>94024</td>\n",
       "      <td>23</td>\n",
       "      <td>24</td>\n",
       "      <td>0.0</td>\n",
       "      <td>0.0</td>\n",
       "      <td>2018-05-03 19:31:56.880</td>\n",
       "      <td>5DT8RCPL87KI5EORO7B0</td>\n",
       "      <td>79.0184</td>\n",
       "      <td>1896.44160</td>\n",
       "    </tr>\n",
       "    <tr>\n",
       "      <th>3</th>\n",
       "      <td>4</td>\n",
       "      <td>8</td>\n",
       "      <td>73966</td>\n",
       "      <td>176</td>\n",
       "      <td>19</td>\n",
       "      <td>0.2</td>\n",
       "      <td>0.0</td>\n",
       "      <td>2018-04-07 14:43:55.420</td>\n",
       "      <td>R3DR9MLD5NR76VO17ULE</td>\n",
       "      <td>81.3167</td>\n",
       "      <td>1236.01384</td>\n",
       "    </tr>\n",
       "    <tr>\n",
       "      <th>4</th>\n",
       "      <td>5</td>\n",
       "      <td>10</td>\n",
       "      <td>32653</td>\n",
       "      <td>310</td>\n",
       "      <td>9</td>\n",
       "      <td>0.0</td>\n",
       "      <td>0.0</td>\n",
       "      <td>2018-02-12 15:37:03.940</td>\n",
       "      <td>4BGS0Z5OMAZ8NDAFHHP3</td>\n",
       "      <td>79.9780</td>\n",
       "      <td>719.80200</td>\n",
       "    </tr>\n",
       "  </tbody>\n",
       "</table>\n",
       "</div>"
      ],
      "text/plain": [
       "   SalesID  SalesPersonID  CustomerID  ProductID  Quantity  Discount  \\\n",
       "0        1              6       27039        381         7       0.0   \n",
       "1        2             16       25011         61         7       0.0   \n",
       "2        3             13       94024         23        24       0.0   \n",
       "3        4              8       73966        176        19       0.2   \n",
       "4        5             10       32653        310         9       0.0   \n",
       "\n",
       "   TotalPrice                SalesDate     TransactionNumber    Price  \\\n",
       "0         0.0  2018-02-05 07:38:25.430  FQL4S94E4ME1EZFTG42G  44.2337   \n",
       "1         0.0  2018-02-02 16:03:31.150  12UGLX40DJ1A5DTFBHB8  62.5460   \n",
       "2         0.0  2018-05-03 19:31:56.880  5DT8RCPL87KI5EORO7B0  79.0184   \n",
       "3         0.0  2018-04-07 14:43:55.420  R3DR9MLD5NR76VO17ULE  81.3167   \n",
       "4         0.0  2018-02-12 15:37:03.940  4BGS0Z5OMAZ8NDAFHHP3  79.9780   \n",
       "\n",
       "   TotalPriceCalculated  \n",
       "0             309.63590  \n",
       "1             437.82200  \n",
       "2            1896.44160  \n",
       "3            1236.01384  \n",
       "4             719.80200  "
      ]
     },
     "execution_count": 41,
     "metadata": {},
     "output_type": "execute_result"
    }
   ],
   "source": [
    "df = sales_df.merge(products_df[['ProductID', 'Price']], on='ProductID', how='left')\n",
    "df['TotalPriceCalculated'] = (df['Quantity']*df['Price']) * (1 - df['Discount'])\n",
    "df.head()"
   ]
  },
  {
   "cell_type": "markdown",
   "id": "5e7e7d64",
   "metadata": {},
   "source": [
    "## PREGUNTA 2\n",
    "\n",
    "Detecta los outliers en la columna de ventas totales (TotalPriceCalculated)\n",
    "Utilizando el criterio del rango intercuartílico (IQR). Luego, crea una nueva columna llamada IsOutlier que tenga el valor 1 si el registro es un outlier y 0 en caso contrario. \n",
    "\n",
    "##### QUE ES EL RANGO INTERCUARTILICO\n",
    "El rango intercuartílico (IQR) es una medida estadística que describe la dispersión de los datos, mostrando el rango dentro del cual se encuentra el 50% central de los valores.\n",
    "Formula de rango intercuartílico:  \n",
    "\n",
    "        IQR=Q3−Q1\n",
    "\n",
    "FORMULA PARA LIMITE SUPERIOR - LIMITE INFERIOR \n",
    "\n",
    "        limite inferior = Q1−1.5×IQR\n",
    "        limite superior = Q3+1.5×IQR\n",
    "Un valor se considera atípico si está fuera del rango:\n",
    "\n",
    "        TotalPrice < LimiteInferior  o  TotalPrice > Limite Superior\n",
    "\n",
    "¿Cuántos outliers se detectaron?"
   ]
  },
  {
   "cell_type": "code",
   "execution_count": 53,
   "id": "36aa61ee",
   "metadata": {},
   "outputs": [
    {
     "name": "stdout",
     "output_type": "stream",
     "text": [
      "Rango intercuartilico de Calculo de precio total: 805.2203999999999\n"
     ]
    },
    {
     "data": {
      "image/png": "[encoded data removed]",
      "text/plain": [
       "<Figure size 1000x500 with 1 Axes>"
      ]
     },
     "metadata": {},
     "output_type": "display_data"
    }
   ],
   "source": [
    "#Calculo de rango intercuartilico   \n",
    "\n",
    "Q1 = df['TotalPriceCalculated'].quantile(0.25)  #representacion del 25%\n",
    "Q3 = df['TotalPriceCalculated'].quantile(0.75)  #representacion del 75%\n",
    "\n",
    "IQR = Q3 - Q1\n",
    "\n",
    "print(f'Rango intercuartilico de Calculo de precio total: {IQR}')\n",
    "\n",
    "# Calcular media y desviación estándar\n",
    "media = df['TotalPriceCalculated'].mean()\n",
    "std = df['TotalPriceCalculated'].std()\n",
    "\n",
    "# Umbrales de 3 sigmas\n",
    "lower = media - 3*std\n",
    "upper = media + 3*std\n",
    "\n",
    "# Crear la gráfica de distribución\n",
    "plt.figure(figsize=(10, 5))\n",
    "sns.histplot(df['TotalPriceCalculated'], kde=True, color='skyblue', bins=50)\n",
    "\n",
    "# Agregar líneas de umbral de 3 sigmas\n",
    "plt.axvline(lower, color='red', linestyle='--', label='-3σ')\n",
    "plt.axvline(media, color='green', linestyle='-', label='Media (μ)')\n",
    "plt.axvline(upper, color='red', linestyle='--', label='+3σ')\n",
    "\n",
    "# Título y etiquetas\n",
    "plt.title('Detección de Outliers con el Método de las Tres Sigmas')\n",
    "plt.xlabel('TotalPriceCalculated')\n",
    "plt.ylabel('Frecuencia')\n",
    "plt.legend()\n",
    "\n",
    "# Mostrar\n",
    "plt.show()"
   ]
  },
  {
   "cell_type": "code",
   "execution_count": 43,
   "id": "0d4639be",
   "metadata": {},
   "outputs": [],
   "source": [
    "##Limites superior e inferior\n",
    "\n",
    "low = Q1 - 1.5 * IQR\n",
    "upper = Q3 + 1.5 * IQR"
   ]
  },
  {
   "cell_type": "code",
   "execution_count": 47,
   "id": "9a567087",
   "metadata": {},
   "outputs": [
    {
     "data": {
      "image/png": "[encoded data removed]",
      "text/plain": [
       "<Figure size 640x480 with 1 Axes>"
      ]
     },
     "metadata": {},
     "output_type": "display_data"
    },
    {
     "name": "stdout",
     "output_type": "stream",
     "text": [
      "Outlier\n",
      "False    6709908\n",
      "True       48217\n",
      "Name: count, dtype: int64\n"
     ]
    }
   ],
   "source": [
    "#Calculo para considerar valores atipicos\n",
    "\n",
    "df['Outlier'] = ((df['TotalPriceCalculated'] < low) | (df['TotalPriceCalculated'] > upper))\n",
    "total_outliners = df['Outlier'].value_counts()\n",
    "counts = df['Outlier'].value_counts()\n",
    "# Gráfico de pastel\n",
    "counts.plot(kind='pie', labels=['No', 'Sí'], autopct='%1.1f%%', colors=['green', 'red'])\n",
    "plt.title('Proporción de Outliers')\n",
    "plt.ylabel('')\n",
    "plt.show()\n",
    "\n",
    "print(total_outliners)"
   ]
  },
  {
   "cell_type": "markdown",
   "id": "1bfea413",
   "metadata": {},
   "source": [
    "### PREGUNTA 3\n",
    "\n",
    "3.1 - A partir de la columna SalesDate, crea una nueva columna que contenga únicamente la hora de la venta.\n",
    "\n",
    "3.2 - identifica en qué hora del día se concentran más ventas totales (TotalPriceCalculated).\n",
    "\n",
    "3.3 ¿La empresa vende más durante los días de semana o en el fin de semana? \n",
    "\n",
    "Utiliza la columna SalesDate para identificar el día de la semana de cada venta, clasifica los registros como Entre semana o Fin de semana, y compara el total de ventas (TotalPriceCalculated) entre ambos grupos."
   ]
  },
  {
   "cell_type": "code",
   "execution_count": 55,
   "id": "0f221288",
   "metadata": {},
   "outputs": [],
   "source": [
    "#Tranformacion de dtype datetime\n",
    "df['SalesDate'] = pd.to_datetime(df['SalesDate'])"
   ]
  },
  {
   "cell_type": "code",
   "execution_count": 59,
   "id": "edc889c2",
   "metadata": {},
   "outputs": [
    {
     "name": "stdout",
     "output_type": "stream",
     "text": [
      "<class 'pandas.core.frame.DataFrame'>\n",
      "RangeIndex: 6758125 entries, 0 to 6758124\n",
      "Data columns (total 14 columns):\n",
      " #   Column                Dtype         \n",
      "---  ------                -----         \n",
      " 0   SalesID               int64         \n",
      " 1   SalesPersonID         int64         \n",
      " 2   CustomerID            int64         \n",
      " 3   ProductID             int64         \n",
      " 4   Quantity              int64         \n",
      " 5   Discount              float64       \n",
      " 6   TotalPrice            float64       \n",
      " 7   SalesDate             datetime64[ns]\n",
      " 8   TransactionNumber     object        \n",
      " 9   Price                 float64       \n",
      " 10  TotalPriceCalculated  float64       \n",
      " 11  Outlier               bool          \n",
      " 12  Hours                 float64       \n",
      " 13  hours                 float64       \n",
      "dtypes: bool(1), datetime64[ns](1), float64(6), int64(5), object(1)\n",
      "memory usage: 676.7+ MB\n"
     ]
    }
   ],
   "source": [
    "#Creacion de columna unica de hora de venta 3.1\n",
    "\n",
    "df['hours'] = df['SalesDate'].dt.hour\n",
    "df.info()"
   ]
  },
  {
   "cell_type": "code",
   "execution_count": 66,
   "id": "34e387f3",
   "metadata": {},
   "outputs": [
    {
     "name": "stdout",
     "output_type": "stream",
     "text": [
      "    hours  TotalPriceCalculated\n",
      "16   16.0          1.790144e+08\n"
     ]
    },
    {
     "data": {
      "image/png": "[encoded data removed]",
      "text/plain": [
       "<Figure size 1000x600 with 1 Axes>"
      ]
     },
     "metadata": {},
     "output_type": "display_data"
    }
   ],
   "source": [
    "#Identificacion de hora donde se concentran mas ventas\n",
    "\n",
    "sale_hour = df.groupby('hours')['TotalPriceCalculated'].sum().reset_index() # Agrupacion de las horas con las ventas totales\n",
    "max_hour_sale = sale_hour[sale_hour['TotalPriceCalculated'] == sale_hour['TotalPriceCalculated'].max()] #Busca el resultado maximo del grupo de  horas \n",
    "print(max_hour_sale)\n",
    "\n",
    "# Crear una gráfica de barras\n",
    "plt.figure(figsize=(10,6))\n",
    "plt.bar(sale_hour['hours'], sale_hour['TotalPriceCalculated'], color='skyblue')\n",
    "\n",
    "# Marcar la hora con más ventas\n",
    "max_hour = max_hour_sale['hours'].values[0]\n",
    "max_value = max_hour_sale['TotalPriceCalculated'].values[0]\n",
    "plt.axvline(x=max_hour, color='red', linestyle='--', label=f'Máxima venta: {max_value:.2f}')\n",
    "\n",
    "# Títulos y etiquetas\n",
    "plt.title('Total de Ventas por Hora')\n",
    "plt.xlabel('Hora del Día')\n",
    "plt.ylabel('Total de Ventas')\n",
    "plt.legend()\n",
    "plt.grid(True)\n",
    "plt.xticks(range(0, 24))  # Si las horas van de 0 a 23\n",
    "\n",
    "plt.tight_layout()\n",
    "plt.show()"
   ]
  },
  {
   "cell_type": "code",
   "execution_count": 73,
   "id": "f9aee2b3",
   "metadata": {},
   "outputs": [
    {
     "data": {
      "image/png": "[encoded data removed]",
      "text/plain": [
       "<Figure size 600x400 with 1 Axes>"
      ]
     },
     "metadata": {},
     "output_type": "display_data"
    },
    {
     "name": "stdout",
     "output_type": "stream",
     "text": [
      "   typeday  TotalPriceCalculated\n",
      "0     Week          3.080352e+09\n",
      "1  Weekend          1.235916e+09\n"
     ]
    }
   ],
   "source": [
    "#Dia de la semana que mas vende\n",
    "\n",
    "typeday = []\n",
    "\n",
    "for day in df['weekday']:\n",
    "    if day < 5:\n",
    "        typeday.append('Week')\n",
    "    else:\n",
    "        typeday.append('Weekend')\n",
    "\n",
    "df['typeday'] = typeday\n",
    "\n",
    "sales_of_day = df.groupby('typeday')['TotalPriceCalculated'].sum().reset_index()\n",
    "\n",
    "\n",
    "plt.figure(figsize=(6,4))\n",
    "plt.bar(sales_of_day['typeday'], sales_of_day['TotalPriceCalculated'], color=['skyblue', 'orange'])\n",
    "\n",
    "plt.title('Ventas Totales por Tipo de Día')\n",
    "plt.xlabel('Tipo de Día')\n",
    "plt.ylabel('Total de Ventas')\n",
    "plt.grid(True, axis='y')\n",
    "\n",
    "plt.tight_layout()\n",
    "plt.show()\n",
    "\n",
    "\n",
    "print(sales_of_day)"
   ]
  },
  {
   "cell_type": "markdown",
   "id": "8a588ed8",
   "metadata": {},
   "source": [
    "### PREGUNTA 4 \n",
    "\n",
    "calcula dos nuevas columnas en el dataset de ventas:\n",
    "La edad del empleado al momento de su contratación y años de experiencia al momento de realizar cada venta.\n",
    "\n",
    "Utiliza las columnas BirthDate, HireDate (de la tabla employees) y SalesDate (de la tabla sales). \n",
    "\n",
    "Asegúrate de trabajar con fechas en formato adecuado."
   ]
  },
  {
   "cell_type": "code",
   "execution_count": null,
   "id": "5258731f",
   "metadata": {},
   "outputs": [
    {
     "name": "stdout",
     "output_type": "stream",
     "text": [
      "<class 'pandas.core.frame.DataFrame'>\n",
      "RangeIndex: 23 entries, 0 to 22\n",
      "Data columns (total 8 columns):\n",
      " #   Column         Non-Null Count  Dtype         \n",
      "---  ------         --------------  -----         \n",
      " 0   EmployeeID     23 non-null     int64         \n",
      " 1   FirstName      23 non-null     object        \n",
      " 2   MiddleInitial  23 non-null     object        \n",
      " 3   LastName       23 non-null     object        \n",
      " 4   BirthDate      23 non-null     datetime64[ns]\n",
      " 5   Gender         23 non-null     object        \n",
      " 6   CityID         23 non-null     int64         \n",
      " 7   HireDate       23 non-null     object        \n",
      "dtypes: datetime64[ns](1), int64(2), object(5)\n",
      "memory usage: 1.6+ KB\n"
     ]
    }
   ],
   "source": [
    "#Transformacion de campo birthdate a datatime\n",
    "employees_df['BirthDate'] = pd.to_datetime(employees_df['BirthDate'])\n",
    "employees_df.info()"
   ]
  },
  {
   "cell_type": "code",
   "execution_count": 76,
   "id": "8dd7e5a0",
   "metadata": {},
   "outputs": [
    {
     "name": "stdout",
     "output_type": "stream",
     "text": [
      "<class 'pandas.core.frame.DataFrame'>\n",
      "RangeIndex: 23 entries, 0 to 22\n",
      "Data columns (total 8 columns):\n",
      " #   Column         Non-Null Count  Dtype         \n",
      "---  ------         --------------  -----         \n",
      " 0   EmployeeID     23 non-null     int64         \n",
      " 1   FirstName      23 non-null     object        \n",
      " 2   MiddleInitial  23 non-null     object        \n",
      " 3   LastName       23 non-null     object        \n",
      " 4   BirthDate      23 non-null     datetime64[ns]\n",
      " 5   Gender         23 non-null     object        \n",
      " 6   CityID         23 non-null     int64         \n",
      " 7   HireDate       23 non-null     datetime64[ns]\n",
      "dtypes: datetime64[ns](2), int64(2), object(4)\n",
      "memory usage: 1.6+ KB\n"
     ]
    }
   ],
   "source": [
    "#Transformacion de HireDate a datatime\n",
    "employees_df['HireDate'] = pd.to_datetime(employees_df['HireDate'])\n",
    "employees_df.info()"
   ]
  },
  {
   "cell_type": "code",
   "execution_count": 79,
   "id": "e37e93dd",
   "metadata": {},
   "outputs": [
    {
     "data": {
      "application/vnd.microsoft.datawrangler.viewer.v0+json": {
       "columns": [
        {
         "name": "index",
         "rawType": "int64",
         "type": "integer"
        },
        {
         "name": "EmployeeID",
         "rawType": "int64",
         "type": "integer"
        },
        {
         "name": "FirstName",
         "rawType": "object",
         "type": "string"
        },
        {
         "name": "MiddleInitial",
         "rawType": "object",
         "type": "string"
        },
        {
         "name": "LastName",
         "rawType": "object",
         "type": "string"
        },
        {
         "name": "BirthDate",
         "rawType": "datetime64[ns]",
         "type": "datetime"
        },
        {
         "name": "Gender",
         "rawType": "object",
         "type": "string"
        },
        {
         "name": "CityID",
         "rawType": "int64",
         "type": "integer"
        },
        {
         "name": "HireDate",
         "rawType": "datetime64[ns]",
         "type": "datetime"
        },
        {
         "name": "employee_age",
         "rawType": "int32",
         "type": "integer"
        }
       ],
       "ref": "c89297b6-68fb-40ec-823a-1c1cea8e0cb7",
       "rows": [
        [
         "0",
         "1",
         "Nicole",
         "T",
         "Fuller",
         "1981-03-07 00:00:00",
         "F",
         "80",
         "2011-06-20 07:15:36.920000",
         "30"
        ],
        [
         "1",
         "2",
         "Christine",
         "W",
         "Palmer",
         "1968-01-25 00:00:00",
         "F",
         "4",
         "2011-04-27 04:07:56.930000",
         "43"
        ],
        [
         "2",
         "3",
         "Pablo",
         "Y",
         "Cline",
         "1963-02-09 00:00:00",
         "M",
         "70",
         "2012-03-30 18:55:23.270000",
         "49"
        ],
        [
         "3",
         "4",
         "Darnell",
         "O",
         "Nielsen",
         "1989-02-06 00:00:00",
         "M",
         "39",
         "2014-03-06 06:55:02.780000",
         "25"
        ],
        [
         "4",
         "5",
         "Desiree",
         "L",
         "Stuart",
         "1963-05-03 00:00:00",
         "F",
         "23",
         "2014-11-16 22:59:54.720000",
         "51"
        ]
       ],
       "shape": {
        "columns": 9,
        "rows": 5
       }
      },
      "text/html": [
       "<div>\n",
       "<style scoped>\n",
       "    .dataframe tbody tr th:only-of-type {\n",
       "        vertical-align: middle;\n",
       "    }\n",
       "\n",
       "    .dataframe tbody tr th {\n",
       "        vertical-align: top;\n",
       "    }\n",
       "\n",
       "    .dataframe thead th {\n",
       "        text-align: right;\n",
       "    }\n",
       "</style>\n",
       "<table border=\"1\" class=\"dataframe\">\n",
       "  <thead>\n",
       "    <tr style=\"text-align: right;\">\n",
       "      <th></th>\n",
       "      <th>EmployeeID</th>\n",
       "      <th>FirstName</th>\n",
       "      <th>MiddleInitial</th>\n",
       "      <th>LastName</th>\n",
       "      <th>BirthDate</th>\n",
       "      <th>Gender</th>\n",
       "      <th>CityID</th>\n",
       "      <th>HireDate</th>\n",
       "      <th>employee_age</th>\n",
       "    </tr>\n",
       "  </thead>\n",
       "  <tbody>\n",
       "    <tr>\n",
       "      <th>0</th>\n",
       "      <td>1</td>\n",
       "      <td>Nicole</td>\n",
       "      <td>T</td>\n",
       "      <td>Fuller</td>\n",
       "      <td>1981-03-07</td>\n",
       "      <td>F</td>\n",
       "      <td>80</td>\n",
       "      <td>2011-06-20 07:15:36.920</td>\n",
       "      <td>30</td>\n",
       "    </tr>\n",
       "    <tr>\n",
       "      <th>1</th>\n",
       "      <td>2</td>\n",
       "      <td>Christine</td>\n",
       "      <td>W</td>\n",
       "      <td>Palmer</td>\n",
       "      <td>1968-01-25</td>\n",
       "      <td>F</td>\n",
       "      <td>4</td>\n",
       "      <td>2011-04-27 04:07:56.930</td>\n",
       "      <td>43</td>\n",
       "    </tr>\n",
       "    <tr>\n",
       "      <th>2</th>\n",
       "      <td>3</td>\n",
       "      <td>Pablo</td>\n",
       "      <td>Y</td>\n",
       "      <td>Cline</td>\n",
       "      <td>1963-02-09</td>\n",
       "      <td>M</td>\n",
       "      <td>70</td>\n",
       "      <td>2012-03-30 18:55:23.270</td>\n",
       "      <td>49</td>\n",
       "    </tr>\n",
       "    <tr>\n",
       "      <th>3</th>\n",
       "      <td>4</td>\n",
       "      <td>Darnell</td>\n",
       "      <td>O</td>\n",
       "      <td>Nielsen</td>\n",
       "      <td>1989-02-06</td>\n",
       "      <td>M</td>\n",
       "      <td>39</td>\n",
       "      <td>2014-03-06 06:55:02.780</td>\n",
       "      <td>25</td>\n",
       "    </tr>\n",
       "    <tr>\n",
       "      <th>4</th>\n",
       "      <td>5</td>\n",
       "      <td>Desiree</td>\n",
       "      <td>L</td>\n",
       "      <td>Stuart</td>\n",
       "      <td>1963-05-03</td>\n",
       "      <td>F</td>\n",
       "      <td>23</td>\n",
       "      <td>2014-11-16 22:59:54.720</td>\n",
       "      <td>51</td>\n",
       "    </tr>\n",
       "  </tbody>\n",
       "</table>\n",
       "</div>"
      ],
      "text/plain": [
       "   EmployeeID  FirstName MiddleInitial LastName  BirthDate Gender  CityID  \\\n",
       "0           1     Nicole             T   Fuller 1981-03-07      F      80   \n",
       "1           2  Christine             W   Palmer 1968-01-25      F       4   \n",
       "2           3      Pablo             Y    Cline 1963-02-09      M      70   \n",
       "3           4    Darnell             O  Nielsen 1989-02-06      M      39   \n",
       "4           5    Desiree             L   Stuart 1963-05-03      F      23   \n",
       "\n",
       "                 HireDate  employee_age  \n",
       "0 2011-06-20 07:15:36.920            30  \n",
       "1 2011-04-27 04:07:56.930            43  \n",
       "2 2012-03-30 18:55:23.270            49  \n",
       "3 2014-03-06 06:55:02.780            25  \n",
       "4 2014-11-16 22:59:54.720            51  "
      ]
     },
     "execution_count": 79,
     "metadata": {},
     "output_type": "execute_result"
    }
   ],
   "source": [
    "#Edad del empleado al momento de su contratacion\n",
    "\n",
    "employees_df['employee_age'] = employees_df['HireDate'].dt.year - employees_df['BirthDate'].dt.year\n",
    "employees_df.head()"
   ]
  },
  {
   "cell_type": "code",
   "execution_count": 82,
   "id": "33437f34",
   "metadata": {},
   "outputs": [
    {
     "data": {
      "application/vnd.microsoft.datawrangler.viewer.v0+json": {
       "columns": [
        {
         "name": "index",
         "rawType": "int64",
         "type": "integer"
        },
        {
         "name": "SalesID",
         "rawType": "int64",
         "type": "integer"
        },
        {
         "name": "SalesPersonID",
         "rawType": "int64",
         "type": "integer"
        },
        {
         "name": "CustomerID",
         "rawType": "int64",
         "type": "integer"
        },
        {
         "name": "ProductID",
         "rawType": "int64",
         "type": "integer"
        },
        {
         "name": "Quantity",
         "rawType": "int64",
         "type": "integer"
        },
        {
         "name": "Discount",
         "rawType": "float64",
         "type": "float"
        },
        {
         "name": "TotalPrice",
         "rawType": "float64",
         "type": "float"
        },
        {
         "name": "SalesDate",
         "rawType": "datetime64[ns]",
         "type": "datetime"
        },
        {
         "name": "TransactionNumber",
         "rawType": "object",
         "type": "string"
        },
        {
         "name": "EmployeeID",
         "rawType": "int64",
         "type": "integer"
        },
        {
         "name": "FirstName",
         "rawType": "object",
         "type": "string"
        },
        {
         "name": "MiddleInitial",
         "rawType": "object",
         "type": "string"
        },
        {
         "name": "LastName",
         "rawType": "object",
         "type": "string"
        },
        {
         "name": "BirthDate",
         "rawType": "datetime64[ns]",
         "type": "datetime"
        },
        {
         "name": "Gender",
         "rawType": "object",
         "type": "string"
        },
        {
         "name": "CityID",
         "rawType": "int64",
         "type": "integer"
        },
        {
         "name": "HireDate",
         "rawType": "datetime64[ns]",
         "type": "datetime"
        },
        {
         "name": "employee_age",
         "rawType": "int32",
         "type": "integer"
        },
        {
         "name": "experience",
         "rawType": "float64",
         "type": "float"
        }
       ],
       "ref": "8e08d9bb-793e-417b-9f1e-0aef200ac3f0",
       "rows": [
        [
         "0",
         "1",
         "6",
         "27039",
         "381",
         "7",
         "0.0",
         "0.0",
         "2018-02-05 07:38:25.430000",
         "FQL4S94E4ME1EZFTG42G",
         "6",
         "Holly",
         "E",
         "Collins",
         "1987-01-13 00:00:00",
         "M",
         "65",
         "2013-06-22 13:20:18.080000",
         "26",
         "5.0"
        ],
        [
         "1",
         "2",
         "16",
         "25011",
         "61",
         "7",
         "0.0",
         "0.0",
         "2018-02-02 16:03:31.150000",
         "12UGLX40DJ1A5DTFBHB8",
         "16",
         "Chadwick",
         "U",
         "Walton",
         "1951-07-07 00:00:00",
         "M",
         "28",
         "2017-02-10 11:21:26.650000",
         "66",
         "1.0"
        ],
        [
         "2",
         "3",
         "13",
         "94024",
         "23",
         "24",
         "0.0",
         "0.0",
         "2018-05-03 19:31:56.880000",
         "5DT8RCPL87KI5EORO7B0",
         "13",
         "Katina",
         "Y",
         "Marks",
         "1963-04-18 00:00:00",
         "M",
         "68",
         "2011-12-12 10:43:52.940000",
         "48",
         "7.0"
        ],
        [
         "3",
         "4",
         "8",
         "73966",
         "176",
         "19",
         "0.2",
         "0.0",
         "2018-04-07 14:43:55.420000",
         "R3DR9MLD5NR76VO17ULE",
         "8",
         "Julie",
         "E",
         "Dyer",
         "1956-12-13 00:00:00",
         "M",
         "18",
         "2014-10-14 23:12:53.420000",
         "58",
         "4.0"
        ],
        [
         "4",
         "5",
         "10",
         "32653",
         "310",
         "9",
         "0.0",
         "0.0",
         "2018-02-12 15:37:03.940000",
         "4BGS0Z5OMAZ8NDAFHHP3",
         "10",
         "Jean",
         "P",
         "Vang",
         "1963-12-30 00:00:00",
         "M",
         "9",
         "2012-07-23 15:02:12.640000",
         "49",
         "6.0"
        ]
       ],
       "shape": {
        "columns": 19,
        "rows": 5
       }
      },
      "text/html": [
       "<div>\n",
       "<style scoped>\n",
       "    .dataframe tbody tr th:only-of-type {\n",
       "        vertical-align: middle;\n",
       "    }\n",
       "\n",
       "    .dataframe tbody tr th {\n",
       "        vertical-align: top;\n",
       "    }\n",
       "\n",
       "    .dataframe thead th {\n",
       "        text-align: right;\n",
       "    }\n",
       "</style>\n",
       "<table border=\"1\" class=\"dataframe\">\n",
       "  <thead>\n",
       "    <tr style=\"text-align: right;\">\n",
       "      <th></th>\n",
       "      <th>SalesID</th>\n",
       "      <th>SalesPersonID</th>\n",
       "      <th>CustomerID</th>\n",
       "      <th>ProductID</th>\n",
       "      <th>Quantity</th>\n",
       "      <th>Discount</th>\n",
       "      <th>TotalPrice</th>\n",
       "      <th>SalesDate</th>\n",
       "      <th>TransactionNumber</th>\n",
       "      <th>EmployeeID</th>\n",
       "      <th>FirstName</th>\n",
       "      <th>MiddleInitial</th>\n",
       "      <th>LastName</th>\n",
       "      <th>BirthDate</th>\n",
       "      <th>Gender</th>\n",
       "      <th>CityID</th>\n",
       "      <th>HireDate</th>\n",
       "      <th>employee_age</th>\n",
       "      <th>experience</th>\n",
       "    </tr>\n",
       "  </thead>\n",
       "  <tbody>\n",
       "    <tr>\n",
       "      <th>0</th>\n",
       "      <td>1</td>\n",
       "      <td>6</td>\n",
       "      <td>27039</td>\n",
       "      <td>381</td>\n",
       "      <td>7</td>\n",
       "      <td>0.0</td>\n",
       "      <td>0.0</td>\n",
       "      <td>2018-02-05 07:38:25.430</td>\n",
       "      <td>FQL4S94E4ME1EZFTG42G</td>\n",
       "      <td>6</td>\n",
       "      <td>Holly</td>\n",
       "      <td>E</td>\n",
       "      <td>Collins</td>\n",
       "      <td>1987-01-13</td>\n",
       "      <td>M</td>\n",
       "      <td>65</td>\n",
       "      <td>2013-06-22 13:20:18.080</td>\n",
       "      <td>26</td>\n",
       "      <td>5.0</td>\n",
       "    </tr>\n",
       "    <tr>\n",
       "      <th>1</th>\n",
       "      <td>2</td>\n",
       "      <td>16</td>\n",
       "      <td>25011</td>\n",
       "      <td>61</td>\n",
       "      <td>7</td>\n",
       "      <td>0.0</td>\n",
       "      <td>0.0</td>\n",
       "      <td>2018-02-02 16:03:31.150</td>\n",
       "      <td>12UGLX40DJ1A5DTFBHB8</td>\n",
       "      <td>16</td>\n",
       "      <td>Chadwick</td>\n",
       "      <td>U</td>\n",
       "      <td>Walton</td>\n",
       "      <td>1951-07-07</td>\n",
       "      <td>M</td>\n",
       "      <td>28</td>\n",
       "      <td>2017-02-10 11:21:26.650</td>\n",
       "      <td>66</td>\n",
       "      <td>1.0</td>\n",
       "    </tr>\n",
       "    <tr>\n",
       "      <th>2</th>\n",
       "      <td>3</td>\n",
       "      <td>13</td>\n",
       "      <td>94024</td>\n",
       "      <td>23</td>\n",
       "      <td>24</td>\n",
       "      <td>0.0</td>\n",
       "      <td>0.0</td>\n",
       "      <td>2018-05-03 19:31:56.880</td>\n",
       "      <td>5DT8RCPL87KI5EORO7B0</td>\n",
       "      <td>13</td>\n",
       "      <td>Katina</td>\n",
       "      <td>Y</td>\n",
       "      <td>Marks</td>\n",
       "      <td>1963-04-18</td>\n",
       "      <td>M</td>\n",
       "      <td>68</td>\n",
       "      <td>2011-12-12 10:43:52.940</td>\n",
       "      <td>48</td>\n",
       "      <td>7.0</td>\n",
       "    </tr>\n",
       "    <tr>\n",
       "      <th>3</th>\n",
       "      <td>4</td>\n",
       "      <td>8</td>\n",
       "      <td>73966</td>\n",
       "      <td>176</td>\n",
       "      <td>19</td>\n",
       "      <td>0.2</td>\n",
       "      <td>0.0</td>\n",
       "      <td>2018-04-07 14:43:55.420</td>\n",
       "      <td>R3DR9MLD5NR76VO17ULE</td>\n",
       "      <td>8</td>\n",
       "      <td>Julie</td>\n",
       "      <td>E</td>\n",
       "      <td>Dyer</td>\n",
       "      <td>1956-12-13</td>\n",
       "      <td>M</td>\n",
       "      <td>18</td>\n",
       "      <td>2014-10-14 23:12:53.420</td>\n",
       "      <td>58</td>\n",
       "      <td>4.0</td>\n",
       "    </tr>\n",
       "    <tr>\n",
       "      <th>4</th>\n",
       "      <td>5</td>\n",
       "      <td>10</td>\n",
       "      <td>32653</td>\n",
       "      <td>310</td>\n",
       "      <td>9</td>\n",
       "      <td>0.0</td>\n",
       "      <td>0.0</td>\n",
       "      <td>2018-02-12 15:37:03.940</td>\n",
       "      <td>4BGS0Z5OMAZ8NDAFHHP3</td>\n",
       "      <td>10</td>\n",
       "      <td>Jean</td>\n",
       "      <td>P</td>\n",
       "      <td>Vang</td>\n",
       "      <td>1963-12-30</td>\n",
       "      <td>M</td>\n",
       "      <td>9</td>\n",
       "      <td>2012-07-23 15:02:12.640</td>\n",
       "      <td>49</td>\n",
       "      <td>6.0</td>\n",
       "    </tr>\n",
       "  </tbody>\n",
       "</table>\n",
       "</div>"
      ],
      "text/plain": [
       "   SalesID  SalesPersonID  CustomerID  ProductID  Quantity  Discount  \\\n",
       "0        1              6       27039        381         7       0.0   \n",
       "1        2             16       25011         61         7       0.0   \n",
       "2        3             13       94024         23        24       0.0   \n",
       "3        4              8       73966        176        19       0.2   \n",
       "4        5             10       32653        310         9       0.0   \n",
       "\n",
       "   TotalPrice               SalesDate     TransactionNumber  EmployeeID  \\\n",
       "0         0.0 2018-02-05 07:38:25.430  FQL4S94E4ME1EZFTG42G           6   \n",
       "1         0.0 2018-02-02 16:03:31.150  12UGLX40DJ1A5DTFBHB8          16   \n",
       "2         0.0 2018-05-03 19:31:56.880  5DT8RCPL87KI5EORO7B0          13   \n",
       "3         0.0 2018-04-07 14:43:55.420  R3DR9MLD5NR76VO17ULE           8   \n",
       "4         0.0 2018-02-12 15:37:03.940  4BGS0Z5OMAZ8NDAFHHP3          10   \n",
       "\n",
       "  FirstName MiddleInitial LastName  BirthDate Gender  CityID  \\\n",
       "0     Holly             E  Collins 1987-01-13      M      65   \n",
       "1  Chadwick             U   Walton 1951-07-07      M      28   \n",
       "2    Katina             Y    Marks 1963-04-18      M      68   \n",
       "3     Julie             E     Dyer 1956-12-13      M      18   \n",
       "4      Jean             P     Vang 1963-12-30      M       9   \n",
       "\n",
       "                 HireDate  employee_age  experience  \n",
       "0 2013-06-22 13:20:18.080            26         5.0  \n",
       "1 2017-02-10 11:21:26.650            66         1.0  \n",
       "2 2011-12-12 10:43:52.940            48         7.0  \n",
       "3 2014-10-14 23:12:53.420            58         4.0  \n",
       "4 2012-07-23 15:02:12.640            49         6.0  "
      ]
     },
     "execution_count": 82,
     "metadata": {},
     "output_type": "execute_result"
    }
   ],
   "source": [
    "#años de experiencia al momento de realizar cada venta\n",
    "\n",
    "#Conversion de sales date a datatime\n",
    "sales_df['SalesDate'] = pd.to_datetime(sales_df['SalesDate'])\n",
    "\n",
    "#union de tablas \n",
    "df = sales_df.merge(employees_df, left_on='SalesPersonID', right_on='EmployeeID')\n",
    "\n",
    "df['experience'] = ((df['SalesDate'] - df['HireDate']).dt.days // 365) + 1\n",
    "\n",
    "df.head()"
   ]
  }
 ],
 "metadata": {
  "kernelspec": {
   "display_name": "Python 3",
   "language": "python",
   "name": "python3"
  },
  "language_info": {
   "codemirror_mode": {
    "name": "ipython",
    "version": 3
   },
   "file_extension": ".py",
   "mimetype": "text/x-python",
   "name": "python",
   "nbconvert_exporter": "python",
   "pygments_lexer": "ipython3",
   "version": "undefined.undefined.undefined"
  }
 },
 "nbformat": 4,
 "nbformat_minor": 5
}
